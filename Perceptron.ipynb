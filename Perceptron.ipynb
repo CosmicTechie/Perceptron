{
  "nbformat": 4,
  "nbformat_minor": 0,
  "metadata": {
    "colab": {
      "name": "Perceptron.ipynb",
      "provenance": []
    },
    "kernelspec": {
      "name": "python3",
      "display_name": "Python 3"
    }
  },
  "cells": [
    {
      "cell_type": "code",
      "metadata": {
        "id": "iZmOk48DJble"
      },
      "source": [
        "import numpy as np\n",
        "import matplotlib.pyplot as plt\n",
        "import pandas as pd\n",
        "from sklearn.metrics import accuracy_score\n",
        "%matplotlib inline"
      ],
      "execution_count": 1,
      "outputs": []
    },
    {
      "cell_type": "code",
      "metadata": {
        "id": "cWyYNZ5mKATQ"
      },
      "source": [
        "class Perceptron:\n",
        "\n",
        "    def __init__(self, learning_rate=0.01, n_iters=1000):\n",
        "        self.lr = learning_rate\n",
        "        self.n_iters = n_iters\n",
        "        self.activation_func = self._unit_step_func\n",
        "        self.weights = None\n",
        "        self.bias = None\n",
        "\n",
        "    def fit(self, X, y):\n",
        "        n_samples, n_features = X.shape\n",
        "        self.weights = np.zeros(n_features) #Initializing weights \n",
        "        self.bias = 0\n",
        "\n",
        "        y_ = np.array([1 if i > 0 else 0 for i in y])\n",
        "\n",
        "        for _ in range(self.n_iters):\n",
        "            \n",
        "            for idx, x_i in enumerate(X):\n",
        "\n",
        "                net_input = np.dot(x_i, self.weights) + self.bias\n",
        "                y_predicted = self.activation_func(net_input)\n",
        "                \n",
        "                # Perceptron update rule\n",
        "                update = self.lr * (y_[idx] - y_predicted)\n",
        "\n",
        "                self.weights += update * x_i\n",
        "                self.bias += update\n",
        "\n",
        "    def predict(self, X):\n",
        "        net_input = np.dot(X, self.weights) + self.bias\n",
        "        y_predicted = self.activation_func(net_input)\n",
        "        return y_predicted\n",
        "\n",
        "    def _unit_step_func(self, x):\n",
        "        return np.where(x>=0, 1, 0)"
      ],
      "execution_count": 2,
      "outputs": []
    },
    {
      "cell_type": "code",
      "metadata": {
        "id": "yhdhHL_iKP-1",
        "colab": {
          "base_uri": "https://localhost:8080/"
        },
        "outputId": "0e233e33-6d10-4bc3-c882-2f4004667375"
      },
      "source": [
        "df = pd.read_csv('https://archive.ics.uci.edu/ml/machine-learning-databases/iris/iris.data', header=None)\n",
        "df.columns=['Sepal_length','Sepal_width','Petal_length','Petal_width','Species']\n",
        "print(df[0:100])\n",
        "\n",
        "y = df.iloc[0:100, 4].values\n",
        "y = np.where(y == 'Iris-setosa', 0, 1)\n",
        "\n",
        "# sepal length and petal length\n",
        "X = df.iloc[0:100, [0,1,2,3]].values"
      ],
      "execution_count": 3,
      "outputs": [
        {
          "output_type": "stream",
          "text": [
            "    Sepal_length  Sepal_width  Petal_length  Petal_width          Species\n",
            "0            5.1          3.5           1.4          0.2      Iris-setosa\n",
            "1            4.9          3.0           1.4          0.2      Iris-setosa\n",
            "2            4.7          3.2           1.3          0.2      Iris-setosa\n",
            "3            4.6          3.1           1.5          0.2      Iris-setosa\n",
            "4            5.0          3.6           1.4          0.2      Iris-setosa\n",
            "..           ...          ...           ...          ...              ...\n",
            "95           5.7          3.0           4.2          1.2  Iris-versicolor\n",
            "96           5.7          2.9           4.2          1.3  Iris-versicolor\n",
            "97           6.2          2.9           4.3          1.3  Iris-versicolor\n",
            "98           5.1          2.5           3.0          1.1  Iris-versicolor\n",
            "99           5.7          2.8           4.1          1.3  Iris-versicolor\n",
            "\n",
            "[100 rows x 5 columns]\n"
          ],
          "name": "stdout"
        }
      ]
    },
    {
      "cell_type": "code",
      "metadata": {
        "id": "p2gY9PSdKay9",
        "colab": {
          "base_uri": "https://localhost:8080/",
          "height": 282
        },
        "outputId": "9bd7893c-1ce2-4037-f59a-41a5305ec091"
      },
      "source": [
        "plt.scatter(X[:50, 0], X[:50, 1],\n",
        "            color='green', marker='x', label='setosa')\n",
        "plt.scatter(X[50:100, 0], X[50:100, 1],\n",
        "            color='red', marker='o', label='versicolor')\n",
        "plt.xlabel('sepal length')\n",
        "plt.ylabel('petal length')\n",
        "plt.legend(loc='upper right')\n",
        "plt.show()"
      ],
      "execution_count": 4,
      "outputs": [
        {
          "output_type": "display_data",
          "data": {
            "image/png": "[encoded data removed]",
            "text/plain": [
              "<Figure size 432x288 with 1 Axes>"
            ]
          },
          "metadata": {
            "tags": [],
            "needs_background": "light"
          }
        }
      ]
    },
    {
      "cell_type": "code",
      "metadata": {
        "id": "D6MQWbNKKd5N",
        "colab": {
          "base_uri": "https://localhost:8080/"
        },
        "outputId": "72abe13b-1cec-43aa-969c-974c46ed19be"
      },
      "source": [
        "from sklearn.model_selection import train_test_split\n",
        "\n",
        "X_train, X_test, y_train, y_test = train_test_split(X, y, test_size=0.2, random_state=5)\n",
        "p = Perceptron(learning_rate=0.01, n_iters=1000)\n",
        "p.fit(X_train, y_train)\n",
        "predictions = p.predict(X_test)\n",
        "print(\"True Values from the testing data:\",y_test)\n",
        "print(\"Predictions on the testing data:\",predictions)\n",
        "print(\"Perceptron classification accuracy\", accuracy_score(y_test, predictions))"
      ],
      "execution_count": 5,
      "outputs": [
        {
          "output_type": "stream",
          "text": [
            "True Values from the testing data: [1 0 0 0 1 0 0 0 0 0 1 0 1 0 1 0 0 1 0 1]\n",
            "Predictions on the testing data: [1 0 0 0 1 0 0 0 0 0 1 0 1 0 1 0 0 1 0 1]\n",
            "Perceptron classification accuracy 1.0\n"
          ],
          "name": "stdout"
        }
      ]
    },
    {
      "cell_type": "code",
      "metadata": {
        "id": "Cu5YudpgKmut"
      },
      "source": [
        ""
      ],
      "execution_count": 5,
      "outputs": []
    }
  ]
}